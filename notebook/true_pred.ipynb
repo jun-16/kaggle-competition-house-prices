{
 "cells": [
  {
   "cell_type": "code",
   "execution_count": null,
   "metadata": {},
   "outputs": [],
   "source": [
    "import pandas as pd\n",
    "import datetime\n",
    "import logging\n",
    "from sklearn.model_selection import KFold\n",
    "import argparse\n",
    "import json\n",
    "import numpy as np\n",
    "\n",
    "from utils import load_datasets, load_target\n",
    "from logs.logger import log_best\n",
    "from models.lgbm import train_and_predict\n",
    "\n",
    "from sklearn.metrics import mean_squared_error\n",
    "\n",
    "import matplotlib.pyplot as plt\n",
    "import seaborn as sns\n",
    "\n",
    "# 関数の処理で必要なライブラリ\n",
    "from sklearn.metrics import mean_squared_error\n",
    "from sklearn.metrics import r2_score\n",
    "\n",
    "# 予測値と正解値を描写する関数\n",
    "def True_Pred_map(pred_df):\n",
    "    RMSLE = np.sqrt(mean_squared_error(pred_df['true'], pred_df['pred']))\n",
    "    R2 = r2_score(pred_df['true'], pred_df['pred'])\n",
    "    plt.figure(figsize=(8,8))\n",
    "    ax = plt.subplot(111)\n",
    "    # 散布図\n",
    "    ax.scatter('true', 'pred', data=pred_df)\n",
    "    # x軸の名前を設定\n",
    "    ax.set_xlabel('True Value', fontsize=15)\n",
    "    # y軸の名前を設定\n",
    "    ax.set_ylabel('Pred Value', fontsize=15)\n",
    "#     print(pred_df)\n",
    "#     print()\n",
    "#     print(pred_df.min())\n",
    "#     print()\n",
    "#     print(pred_df.min().min())\n",
    "#     print(pred_df.min().min()-0.1)\n",
    "#     print()\n",
    "#     print(pred_df.max())\n",
    "#     print()\n",
    "#     print(pred_df.max().max())\n",
    "#     print(pred_df.max().max()+0.1)\n",
    "    # x軸の範囲を指定\n",
    "    ax.set_xlim(pred_df.min().min()-0.1, pred_df.max().max()+0.1)\n",
    "    # y軸の範囲を指定\n",
    "    ax.set_ylim(pred_df.min().min()-0.1, pred_df.max().max()+0.1)\n",
    "    # 等差数列（等間隔の配列ndarray）を生成\n",
    "    # 第一引数startに最初の値、第二引数stopに最後の値、第三引数numに要素数\n",
    "    x = np.linspace(pred_df.min().min()-0.1, pred_df.max().max()+0.1, 2)\n",
    "    y = x\n",
    "    # 折れ線グラフ\n",
    "    ax.plot(x, y, 'r-')\n",
    "    plt.text(0.1, 0.9, 'RMSE = {}'.format(str(round(RMSLE, 5))), transform=ax.transAxes, fontsize=15)\n",
    "    plt.text(0.1, 0.8, 'R^2 = {}'.format(str(round(R2, 5))), transform=ax.transAxes, fontsize=15)\n"
   ]
  },
  {
   "cell_type": "code",
   "execution_count": null,
   "metadata": {},
   "outputs": [],
   "source": [
    "df = pd.read_csv(\"true_pred.csv\")"
   ]
  },
  {
   "cell_type": "code",
   "execution_count": null,
   "metadata": {},
   "outputs": [],
   "source": [
    "# 可視化関数起動\n",
    "True_Pred_map(df)"
   ]
  }
 ],
 "metadata": {
  "kernelspec": {
   "display_name": "Python 3",
   "language": "python",
   "name": "python3"
  },
  "language_info": {
   "codemirror_mode": {
    "name": "ipython",
    "version": 3
   },
   "file_extension": ".py",
   "mimetype": "text/x-python",
   "name": "python",
   "nbconvert_exporter": "python",
   "pygments_lexer": "ipython3",
   "version": "3.7.6"
  }
 },
 "nbformat": 4,
 "nbformat_minor": 4
}
